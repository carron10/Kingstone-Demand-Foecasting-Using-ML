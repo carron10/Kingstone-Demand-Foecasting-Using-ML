{
 "cells": [
  {
   "cell_type": "markdown",
   "metadata": {},
   "source": [
    "Maria Dongeri |\n",
    "N02212150N |\n",
    "Acturial sciences"
   ]
  },
  {
   "cell_type": "code",
   "execution_count": 16,
   "metadata": {},
   "outputs": [
    {
     "name": "stdout",
     "output_type": "stream",
     "text": [
      "The given dog age 12.1 is 85.7 in human years.\n"
     ]
    }
   ],
   "source": [
    "input_age = input(\"Enter dog Age:\")\n",
    "try:\n",
    "    dog_age = float(input_age)\n",
    "    if dog_age < 0:\n",
    "        print(\"Age cannot be a negative number.\")\n",
    "    else:\n",
    "        human_age = None\n",
    "        if dog_age <= 1:\n",
    "            human_age = 15*dog_age\n",
    "        elif dog_age <= 2:\n",
    "            human_age = dog_age * 12\n",
    "        elif dog_age <= 3:\n",
    "            human_age = 9.3 * dog_age\n",
    "        elif dog_age <= 4:\n",
    "            human_age = 8 * dog_age\n",
    "        elif dog_age <= 5:\n",
    "            human_age = 7.2 * dog_age\n",
    "        else:\n",
    "            human_age = (7.2 * 5) + (7*(dog_age-5))\n",
    "        dog_age,human_age=round(dog_age,2),round(human_age,2)\n",
    "        print(f\"The given dog age {dog_age} is {human_age} in human years.\")\n",
    "except Exception as e:\n",
    "    print(f\"{input_age} is Invalid\")"
   ]
  }
 ],
 "metadata": {
  "kernelspec": {
   "display_name": "Python 3",
   "language": "python",
   "name": "python3"
  },
  "language_info": {
   "codemirror_mode": {
    "name": "ipython",
    "version": 3
   },
   "file_extension": ".py",
   "mimetype": "text/x-python",
   "name": "python",
   "nbconvert_exporter": "python",
   "pygments_lexer": "ipython3",
   "version": "3.11.5"
  }
 },
 "nbformat": 4,
 "nbformat_minor": 2
}
