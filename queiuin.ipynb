{
 "cells": [
  {
   "cell_type": "code",
   "execution_count": 1,
   "metadata": {
    "vscode": {
     "languageId": "r"
    }
   },
   "outputs": [],
   "source": [
    "library(queueing)"
   ]
  },
  {
   "cell_type": "code",
   "execution_count": null,
   "metadata": {
    "vscode": {
     "languageId": "r"
    }
   },
   "outputs": [],
   "source": [
    "help(queueing)"
   ]
  },
  {
   "cell_type": "code",
   "execution_count": 3,
   "metadata": {
    "vscode": {
     "languageId": "r"
    }
   },
   "outputs": [
    {
     "data": {
      "text/plain": [
       "  lambda        mu c  k  m   RO   P0   Lq Wq    X L  W Wqq Lqq\n",
       "1   0.25 0.3333333 1 NA NA 0.75 0.25 2.25  9 0.25 3 12  12   4"
      ]
     },
     "metadata": {},
     "output_type": "display_data"
    }
   ],
   "source": [
    "import math\n",
    "\n",
    "def utilization_factor(arrival_rate, service_rate):\n",
    "    return arrival_rate / service_rate\n",
    "\n",
    "def probability_empty_system(utilization_factor):\n",
    "    return 1 - utilization_factor\n",
    "\n",
    "def avg_num_customers_queue(utilization_factor):\n",
    "    return (utilization_factor ** 2) / (1 - utilization_factor)\n",
    "\n",
    "def avg_time_customer_queue(arrival_rate, service_rate):\n",
    "    return utilization_factor(arrival_rate, service_rate) / (service_rate * (1 - utilization_factor(arrival_rate, service_rate)))\n",
    "\n",
    "def avg_num_customers_system(arrival_rate, service_rate):\n",
    "    return arrival_rate / (service_rate - arrival_rate)\n",
    "\n",
    "def avg_time_customer_system(arrival_rate, service_rate):\n",
    "    return 1 / (service_rate - arrival_rate)\n",
    "\n",
    "def avg_time_customer_system_incl_service(arrival_rate, service_rate):\n",
    "    return 1 / service_rate\n",
    "\n",
    "def avg_num_customers_queue_incl_others(utilization_factor):\n",
    "    return utilization_factor ** 2 / (1 - utilization_factor)\n",
    "\n",
    "def avg_time_customer_queue_incl_others(arrival_rate, service_rate):\n",
    "    return utilization_factor(arrival_rate, service_rate) / service_rate\n",
    "\n",
    "if __name__ == \"__main__\":\n",
    "    arrival_rate = 5.0  # Adjust as needed\n",
    "    service_rate = 6.0  # Adjust as needed\n",
    "\n",
    "    ro = utilization_factor(arrival_rate, service_rate)\n",
    "    p0 = probability_empty_system(ro)\n",
    "    Lq = avg_num_customers_queue(ro)\n",
    "    Wq = avg_time_customer_queue(arrival_rate, service_rate)\n",
    "    L = avg_num_customers_system(arrival_rate, service_rate)\n",
    "    W = avg_time_customer_system(arrival_rate, service_rate)\n",
    "    Wqq = avg_time_customer_queue_incl_others(arrival_rate, service_rate)\n",
    "    Lqq = avg_num_customers_queue_incl_others(ro)\n",
    "\n",
    "    print(\"Utilization factor (RO):\", ro)\n",
    "    print(\"Probability of empty system (P0):\", p0)\n",
    "    print(\"Average number of customers in queue (Lq):\", Lq)\n",
    "    print(\"Average time a customer spends waiting in queue (Wq):\", Wq)\n",
    "    print(\"Average number of customers in the system (L):\", L)\n",
    "    print(\"Average time a customer spends in the system (W):\", W)\n",
    "    print(\"Average time a customer spends in the system (including service time) (W incl. service):\", avg_time_customer_system_incl_service(arrival_rate, service_rate))\n",
    "    print(\"Average time a customer spends waiting in queue if others are in queue (Wqq):\", Wqq)\n",
    "    print(\"Average number of customers in queue if others are in queue (Lqq):\", Lqq)\n"
   ]
  }
 ],
 "metadata": {
  "kernelspec": {
   "display_name": "R",
   "language": "R",
   "name": "ir"
  },
  "language_info": {
   "codemirror_mode": "r",
   "file_extension": ".r",
   "mimetype": "text/x-r-source",
   "name": "R",
   "pygments_lexer": "r",
   "version": "4.3.2"
  }
 },
 "nbformat": 4,
 "nbformat_minor": 2
}
