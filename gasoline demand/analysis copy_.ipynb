{
 "cells": [
  {
   "cell_type": "markdown",
   "metadata": {},
   "source": [
    "##### Title: Gasoline Demand Prediction using RandomForestRegressor and GradientBoostingRegressor\n",
    "##### Date: 2024\n",
    "##### Author: Kingstone Sithole\n",
    "\n",
    "##### Introduction\n",
    "This project aims to predict the demand for four different gasoline products (petrol, diesel, das, and jet fuel) using RandomForestRegressor and GradientBoostingRegressor. We will analyze the impact of variables such as Month, Year, and GDP on the monthly demand for these products. By understanding the relationship between these variables and the demand, we can develop predictive models to forecast future demand, which can help in supply chain management and strategic planning."
   ]
  },
  {
   "cell_type": "markdown",
   "metadata": {},
   "source": [
    "##### Data Description\n",
    "\n",
    "The dataset contains monthly demand data for four gasoline products (petrol, diesel, das, and jet fuel) from January 2009 to December 2023. The other file GDP.xls, contains yearly GDP for various countries from 1960 to 2022"
   ]
  },
  {
   "cell_type": "markdown",
   "metadata": {},
   "source": [
    "Loading required Libraries"
   ]
  },
  {
   "cell_type": "code",
   "execution_count": 1,
   "metadata": {},
   "outputs": [],
   "source": [
    "import pandas as pd\n",
    "import numpy as np\n",
    "import matplotlib.pyplot as plt\n",
    "from sklearn.ensemble import RandomForestRegressor, GradientBoostingRegressor\n",
    "from sklearn.metrics import mean_squared_error, r2_score, mean_absolute_error\n",
    "from sklearn.model_selection import train_test_split\n",
    "from numpy.random import seed\n",
    "from math import sqrt\n",
    "from sklearn.preprocessing import MinMaxScaler\n",
    "import seaborn as sns\n",
    "import warnings as wr\n",
    "wr.filterwarnings('ignore')"
   ]
  },
  {
   "cell_type": "markdown",
   "metadata": {},
   "source": [
    "#### Data Loading and Preprocessing"
   ]
  },
  {
   "cell_type": "code",
   "execution_count": 13,
   "metadata": {},
   "outputs": [],
   "source": [
    "# Read data\n",
    "# Here we are reading data from excel\n",
    "gdp_data = pd.read_excel(\n",
    "    \"GDP.xls\", sheet_name=\"Data\")\n",
    "diesel_demand = pd.read_excel(\n",
    "    \"Petrolem Demand.xlsx\", sheet_name=\"Diesel_Finalized\")\n",
    "petrol_demand = pd.read_excel(\n",
    "    \"Petrolem Demand.xlsx\", sheet_name=\"Petrol_Finalized\")\n",
    "gas_demand = pd.read_excel(\"Petrolem Demand.xlsx\", sheet_name=\"LPG_Finalized\")\n",
    "parafin_demand = pd.read_excel(\"Petrolem Demand.xlsx\", sheet_name=\"Paraffin_Finalized\")\n",
    "jet_demand = pd.read_excel(\"Petrolem Demand.xlsx\", sheet_name=\"Jet A1_ Finalized\")\n"
   ]
  },
  {
   "cell_type": "code",
   "execution_count": null,
   "metadata": {},
   "outputs": [],
   "source": [
    "#View top 10 of the records\n",
    "diesel_demand.head()"
   ]
  },
  {
   "cell_type": "code",
   "execution_count": null,
   "metadata": {},
   "outputs": [],
   "source": [
    "gdp_data.head()"
   ]
  },
  {
   "cell_type": "code",
   "execution_count": 29,
   "metadata": {},
   "outputs": [],
   "source": [
    "#Reindex and drops unwanted rows and re index\n",
    "diesel_demand.columns = diesel_demand.iloc[0]\n",
    "diesel_demand.drop(index=0, axis=0, inplace=True)\n",
    "\n",
    "gas_demand.columns = gas_demand.iloc[0]\n",
    "gas_demand.drop(index=0, axis=0, inplace=True)\n",
    "\n",
    "petrol_demand.columns = petrol_demand.iloc[0]\n",
    "petrol_demand.drop(index=0, axis=0, inplace=True)\n",
    "\n",
    "parafin_demand.columns = parafin_demand.iloc[0]\n",
    "parafin_demand.drop(index=0, axis=0, inplace=True)\n",
    "\n",
    "jet_demand.columns =jet_demand.iloc[0]\n",
    "jet_demand.drop(index=0, axis=0, inplace=True)"
   ]
  },
  {
   "cell_type": "code",
   "execution_count": 14,
   "metadata": {},
   "outputs": [],
   "source": [
    "gdp_data.columns = gdp_data.iloc[2]\n",
    "gdp_data.drop(index=[0, 1, 2], axis=0, inplace=True)"
   ]
  },
  {
   "cell_type": "markdown",
   "metadata": {},
   "source": [
    "<h4>Data cleaning and preprocessing steps</h4>\n",
    "<mark>\n",
    "There are 6 dataset, gdp and 5 others for the different petroleum Products. We would like to join them together such that it will be easy to analyse. \n",
    "</mark>"
   ]
  },
  {
   "cell_type": "code",
   "execution_count": 98,
   "metadata": {},
   "outputs": [],
   "source": [
    "\n",
    "#Select row which contains ZWE only\n",
    "zwe_gdp = gdp_data[gdp_data['Country Code'] == \"ZWE\"]\n",
    "\n",
    "#Drop year that are not wanted\n",
    "zwe_gdp = zwe_gdp.drop(columns=['Country Name',   'Country Code', 'Indicator Name', 'Indicator Code',\n",
    "                                1960.0,           1961.0,           1962.0,           1963.0,\n",
    "                                1964.0,           1965.0,           1966.0,           1967.0,\n",
    "                                1968.0,           1969.0,           1970.0,           1971.0,\n",
    "                                1972.0,           1973.0,           1974.0,           1975.0,\n",
    "                                1976.0,           1977.0,           1978.0,           1979.0,\n",
    "                                1980.0,           1981.0,           1982.0,           1983.0,\n",
    "                                1984.0,           1985.0,           1986.0,           1987.0,\n",
    "                                1988.0,           1989.0,           1990.0,           1991.0,\n",
    "                                1992.0,           1993.0,           1994.0,           1995.0,\n",
    "                                1996.0,           1997.0,           1998.0,           1999.0,\n",
    "                                2000.0,           2001.0,           2002.0,           2003.0,\n",
    "                                2004.0,           2005.0,           2006.0,           2007.0,\n",
    "                                2008.0], axis=1)\n",
    "zwe_gdp.dropna(inplace=True, axis=1)\n",
    "zwe_gdp[2023] = np.mean(np.array(zwe_gdp))\n",
    "# Step 1: Reset the index of the Series\n",
    "zwe_gdp=zwe_gdp.reset_index().drop(columns=\"index\")\n",
    "zwe_gdp=pd.DataFrame({\"Year\":pd.to_numeric(zwe_gdp.columns).astype(int),\"GDP\":zwe_gdp.loc[0].values})"
   ]
  },
  {
   "cell_type": "code",
   "execution_count": 100,
   "metadata": {},
   "outputs": [],
   "source": [
    "#Convert Columns Into Rows for all petroleum fuel datasets\n",
    "month_columns = ['January', 'February', 'March', 'April', 'May', 'June', 'July',\n",
    "                 'August', 'September', 'October', 'November', 'December']\n",
    "\n",
    "# Melt the month columns into rows\n",
    "diesel_df = diesel_demand.melt(id_vars=['Year'], value_vars=month_columns, var_name='Month', value_name='Diesel')\n",
    "parafin_df =parafin_demand.melt(id_vars=['Year'], value_vars=month_columns, var_name='Month', value_name='Parafin')\n",
    "petrol_df = petrol_demand.melt(id_vars=['Year'], value_vars=month_columns, var_name='Month', value_name='Petrol')\n",
    "gas_df = gas_demand.melt(id_vars=['Year'], value_vars=month_columns, var_name='Month', value_name='Gas')\n",
    "jet_df=jet_demand.melt(id_vars=['Year'], value_vars=month_columns, var_name='Month', value_name='Jet')"
   ]
  },
  {
   "cell_type": "code",
   "execution_count": 115,
   "metadata": {},
   "outputs": [],
   "source": [
    "df=diesel_df.merge(zwe_gdp,on=\"Year\",how=\"outer\")\n",
    "df=petrol_df.merge(df,on=[\"Year\", \"Month\"],how=\"outer\")\n",
    "df=gas_df.merge(df,on=[\"Year\", \"Month\"],how=\"outer\")\n",
    "df=jet_df.merge(df,on=[\"Year\", \"Month\"],how=\"outer\")"
   ]
  },
  {
   "cell_type": "code",
   "execution_count": 116,
   "metadata": {},
   "outputs": [
    {
     "data": {
      "text/html": [
       "<div>\n",
       "<style scoped>\n",
       "    .dataframe tbody tr th:only-of-type {\n",
       "        vertical-align: middle;\n",
       "    }\n",
       "\n",
       "    .dataframe tbody tr th {\n",
       "        vertical-align: top;\n",
       "    }\n",
       "\n",
       "    .dataframe thead th {\n",
       "        text-align: right;\n",
       "    }\n",
       "</style>\n",
       "<table border=\"1\" class=\"dataframe\">\n",
       "  <thead>\n",
       "    <tr style=\"text-align: right;\">\n",
       "      <th></th>\n",
       "      <th>Year</th>\n",
       "      <th>Month</th>\n",
       "      <th>Jet</th>\n",
       "      <th>Gas</th>\n",
       "      <th>Petrol</th>\n",
       "      <th>Diesel</th>\n",
       "      <th>GDP</th>\n",
       "    </tr>\n",
       "  </thead>\n",
       "  <tbody>\n",
       "    <tr>\n",
       "      <th>0</th>\n",
       "      <td>2015</td>\n",
       "      <td>January</td>\n",
       "      <td>2828852</td>\n",
       "      <td>1084265</td>\n",
       "      <td>36955185</td>\n",
       "      <td>58041555</td>\n",
       "      <td>1.996312e+10</td>\n",
       "    </tr>\n",
       "    <tr>\n",
       "      <th>1</th>\n",
       "      <td>2016</td>\n",
       "      <td>January</td>\n",
       "      <td>2119361</td>\n",
       "      <td>1749203</td>\n",
       "      <td>39633390</td>\n",
       "      <td>55688710</td>\n",
       "      <td>2.054868e+10</td>\n",
       "    </tr>\n",
       "    <tr>\n",
       "      <th>2</th>\n",
       "      <td>2017</td>\n",
       "      <td>January</td>\n",
       "      <td>5081075</td>\n",
       "      <td>2586660</td>\n",
       "      <td>31253611</td>\n",
       "      <td>51240381</td>\n",
       "      <td>1.758489e+10</td>\n",
       "    </tr>\n",
       "    <tr>\n",
       "      <th>3</th>\n",
       "      <td>2018</td>\n",
       "      <td>January</td>\n",
       "      <td>5019247</td>\n",
       "      <td>2856100</td>\n",
       "      <td>51440816</td>\n",
       "      <td>62094755</td>\n",
       "      <td>3.415607e+10</td>\n",
       "    </tr>\n",
       "    <tr>\n",
       "      <th>4</th>\n",
       "      <td>2019</td>\n",
       "      <td>January</td>\n",
       "      <td>5085708</td>\n",
       "      <td>2627800</td>\n",
       "      <td>49092634</td>\n",
       "      <td>69296899</td>\n",
       "      <td>2.183223e+10</td>\n",
       "    </tr>\n",
       "  </tbody>\n",
       "</table>\n",
       "</div>"
      ],
      "text/plain": [
       "   Year    Month      Jet      Gas    Petrol    Diesel           GDP\n",
       "0  2015  January  2828852  1084265  36955185  58041555  1.996312e+10\n",
       "1  2016  January  2119361  1749203  39633390  55688710  2.054868e+10\n",
       "2  2017  January  5081075  2586660  31253611  51240381  1.758489e+10\n",
       "3  2018  January  5019247  2856100  51440816  62094755  3.415607e+10\n",
       "4  2019  January  5085708  2627800  49092634  69296899  2.183223e+10"
      ]
     },
     "execution_count": 116,
     "metadata": {},
     "output_type": "execute_result"
    }
   ],
   "source": [
    "df.head()"
   ]
  },
  {
   "cell_type": "markdown",
   "metadata": {},
   "source": [
    "Merge Fuel dataset with GDP"
   ]
  },
  {
   "cell_type": "code",
   "execution_count": null,
   "metadata": {},
   "outputs": [],
   "source": [
    "#Since GDP is for whole year, we want for as specfic month only, so will use average(divide by 12)\n",
    "data_df['GDP'] = data_df['GDP']/12\n",
    "\n",
    "#Convert Date col into date time\n",
    "data_df['Date'] = pd.to_datetime(data_df['Date'])\n",
    "\n",
    "#Sort the Data by 'Date'\n",
    "data_df.sort_values(by=\"Date\",inplace=True)\n",
    "\n",
    "#Split Date into years and months\n",
    "data_df['Year'] = data_df['Date'].dt.year\n",
    "data_df['Month'] = data_df['Date'].dt.month\n"
   ]
  },
  {
   "cell_type": "code",
   "execution_count": null,
   "metadata": {},
   "outputs": [],
   "source": [
    "#Save the transformed Data into excel\n",
    "data_df.to_excel(\"Transformed Data.xlsx\",index=False)"
   ]
  },
  {
   "cell_type": "markdown",
   "metadata": {},
   "source": [
    "Data Exploration and Analysis"
   ]
  },
  {
   "cell_type": "code",
   "execution_count": null,
   "metadata": {},
   "outputs": [],
   "source": [
    "# Summary statistics\n",
    "print(data_df.describe())"
   ]
  },
  {
   "cell_type": "code",
   "execution_count": null,
   "metadata": {},
   "outputs": [],
   "source": [
    "#Plottinf line graph for Demand Vs Date \n",
    "plt.figure(figsize=(14, 5))\n",
    "sns.lineplot(data_df,y='Demand',x=\"Date\")\n",
    "plt.gca().xaxis.set_major_formatter(plt.matplotlib.dates.DateFormatter(\"%Y\"))\n",
    "plt.title('Line Plot, Demand vs Date')\n",
    "plt.show()"
   ]
  },
  {
   "cell_type": "markdown",
   "metadata": {},
   "source": [
    "<mark>From 2009 to 2014, Demand was increasing gradually but then it falls in 2015, since then Demand was stationary untill 2023. SInce this is for all the products, there might be one product which was not performing well from 2015.</mark> We would like to analyse the graph for each and every product"
   ]
  },
  {
   "cell_type": "code",
   "execution_count": null,
   "metadata": {},
   "outputs": [],
   "source": [
    "droducts = data_df[\"Product\"].unique()\n",
    "sns.set_style(\"darkgrid\")\n",
    "# Plot distribution of each numerical feature\n",
    "for idx, product in enumerate(droducts, 1):\n",
    "    plt.figure(figsize=(14, 5))\n",
    "    sns.lineplot(data_df[data_df[\"Product\"] == product], y=\"Demand\", x=\"Date\")\n",
    "    plt.title(f\"{product} Demand\")\n",
    "    plt.xlabel(\"Year\")\n",
    "    plt.show()"
   ]
  },
  {
   "cell_type": "markdown",
   "metadata": {},
   "source": [
    "<mark>From the above Graphs</mark>\n",
    "<ul>\n",
    "<li>Gas Demand was increasing from 2009 </li>\n",
    "<li>Jet Demand was increasing but fell to a lowest point between 2020 and 2021. Then it increase in high momentum</li>\n",
    "<li>The demand of Parafin  fell and continues to fall from 2017</li>\n",
    "<li>Petrol and Diesel are flactuating</li>\n",
    "</ul>"
   ]
  },
  {
   "cell_type": "markdown",
   "metadata": {},
   "source": [
    "Analyse relationship between GDP VS Demand"
   ]
  },
  {
   "cell_type": "code",
   "execution_count": null,
   "metadata": {},
   "outputs": [],
   "source": [
    "plt.figure(figsize=(14, 5))\n",
    "sns.lineplot(data_df,y='Demand',x=\"GDP\")\n",
    "plt.title('Line Plot, GDP vs Demand')\n",
    "plt.show()"
   ]
  },
  {
   "cell_type": "markdown",
   "metadata": {},
   "source": [
    "Correlation Between  GDP and Demand"
   ]
  },
  {
   "cell_type": "code",
   "execution_count": null,
   "metadata": {},
   "outputs": [],
   "source": [
    "df_grouped_by_year=data_df[data_df['Date'].dt.year >= 2015]\n",
    "df_grouped_by_year['Year'] = df_grouped_by_year['Date'].dt.year\n",
    "df_grouped_by_year=df_grouped_by_year.groupby([\"Year\"])\n",
    "\n",
    "# Assuming 'df' is your DataFrame\n",
    "plt.figure(figsize=(10,3))\n",
    "\n",
    "# Using Seaborn to create a heatmap\n",
    "sns.heatmap(df_grouped_by_year[['GDP', 'Demand']].sum().corr(), annot=True, fmt='.2f', cmap='Pastel2', linewidths=2)\n",
    "\n",
    "plt.title('Correlation Heatmap')\n",
    "plt.show()"
   ]
  },
  {
   "cell_type": "code",
   "execution_count": null,
   "metadata": {},
   "outputs": [],
   "source": [
    "plt.figure(figsize=(14, 6))\n",
    "# Sales vs Customers Scatter Plot\n",
    "sns.scatterplot(x=df_grouped_by_year[['GDP', 'Demand']].sum()[\"GDP\"], y=df_grouped_by_year[['GDP', 'Demand']].sum()[\"Demand\"])\n",
    "plt.title(\"GDP vs Demand\")\n",
    "plt.show()"
   ]
  },
  {
   "cell_type": "markdown",
   "metadata": {},
   "source": [
    "Model Development and Evaluation"
   ]
  },
  {
   "cell_type": "markdown",
   "metadata": {},
   "source": [
    "<p>We come up with two Models, RandomForestRegressor and GradientBoostingRegressor. The problem will be Modelled as a regression problem than a time series problem. Note that we have an option to treat Diesel,Petrol,Jet,Parafin and Gas as separate variables however we have treated them as Categorial in one variable Product.\n",
    "</p>\n",
    "<p>\n",
    "In our approach one can predict Demand by providing year,month and the product the want to predict.\n",
    "</p>"
   ]
  },
  {
   "cell_type": "code",
   "execution_count": null,
   "metadata": {},
   "outputs": [],
   "source": [
    "#Create a new Dataframe from the original\n",
    "df_new=data_df.copy()\n",
    "\n",
    "# Convert 'Product' to categorical codes\n",
    "df_new['Product_codes'] = df_new['Product'].astype('category').cat.codes\n"
   ]
  },
  {
   "cell_type": "markdown",
   "metadata": {},
   "source": [
    "Select X and Y"
   ]
  },
  {
   "cell_type": "code",
   "execution_count": null,
   "metadata": {},
   "outputs": [],
   "source": [
    "features=['Month', 'Year', 'GDP','Product_codes']\n",
    "target=[\"Demand\"]\n",
    "X = df_new[features]  # Independent variables\n",
    "Y = df_new[target]  # Independent variables\n",
    "Y = np.array(Y)\n",
    "X = np.array(X)"
   ]
  },
  {
   "cell_type": "markdown",
   "metadata": {},
   "source": [
    "Scaling the data"
   ]
  },
  {
   "cell_type": "code",
   "execution_count": null,
   "metadata": {},
   "outputs": [],
   "source": [
    "#Scale data into values between 0 and 1\n",
    "x_scaler = MinMaxScaler(feature_range=(0, 1))\n",
    "y_scaler = MinMaxScaler(feature_range=(0, 1))\n",
    "x_scaled=x_scaler.fit_transform(X)\n",
    "y_scaled=y_scaler.fit_transform(np.array(Y.reshape(-1,1)))\n",
    "\n",
    "\n",
    "# Split the dataset into training and testing sets\n",
    "x_train, x_test, y_train, y_test = train_test_split(\n",
    "    x_scaled, y_scaled, test_size=0.2)\n",
    "\n",
    "\n",
    "y_test_actual=pd.DataFrame(y_scaler.inverse_transform(y_test.reshape(-1,1)),columns=['Demand'])\n",
    "y_test=y_test.ravel()"
   ]
  },
  {
   "cell_type": "markdown",
   "metadata": {},
   "source": [
    "Random Forest-Model"
   ]
  },
  {
   "cell_type": "code",
   "execution_count": null,
   "metadata": {},
   "outputs": [],
   "source": [
    "#Train RandomForest Model\n",
    "random_forest_model = RandomForestRegressor(\n",
    "    n_estimators=200, criterion=\"poisson\")\n",
    "random_forest_model.fit(x_train,y_train.ravel())\n",
    "\n",
    "# Make predictions on the testing set\n",
    "random_forest_predict = random_forest_model.predict(x_test)\n",
    "\n",
    "\n",
    "# Evaluate the model's performance\n",
    "rf_score = r2_score(y_test, random_forest_predict)\n",
    "rf_mse= mean_squared_error(y_test, random_forest_predict)\n",
    "rf_mae =mean_absolute_error(y_test, random_forest_predict)\n",
    "rf_rmse= mean_squared_error(y_test, random_forest_predict)\n",
    "\n",
    "print(\"================Measurement Metrics================================\")\n",
    "print(f\"R^2 Squared={rf_score}\")\n",
    "print(f\"MSE={rf_mse}\")\n",
    "print(f\"MAE={rf_mae}\")\n",
    "print(f\"RMSE={rf_rmse}\")\n"
   ]
  },
  {
   "cell_type": "markdown",
   "metadata": {},
   "source": [
    "Visualise The results for Random Forest"
   ]
  },
  {
   "cell_type": "code",
   "execution_count": null,
   "metadata": {},
   "outputs": [],
   "source": [
    "plt.figure(figsize=(14,5))\n",
    "plt.plot(y_test, label='Actual', color='red')\n",
    "plt.plot(random_forest_predict, label='Prediction', color='blue')\n",
    "\n",
    "plt.xlabel('Index')\n",
    "plt.ylabel('Demand')\n",
    "plt.legend()\n",
    "plt.title('Random Forest')\n",
    "plt.show()"
   ]
  },
  {
   "cell_type": "markdown",
   "metadata": {},
   "source": [
    "<mark>\n",
    "The graph above shows two graphs for Predicted Demand vs The Actual. These are values which include all the product and without respect to time, but indices.\n",
    "<br>\n",
    "We can see that Random Forest Regression model,predicted well in most of the values, however, it was not able to predict well in outliere\n",
    "</mark>"
   ]
  },
  {
   "cell_type": "markdown",
   "metadata": {},
   "source": [
    "GradientBoostingRegressor"
   ]
  },
  {
   "cell_type": "code",
   "execution_count": null,
   "metadata": {},
   "outputs": [],
   "source": [
    "gradient_boosting_model = GradientBoostingRegressor(\n",
    "    n_estimators=207, loss=\"squared_error\", alpha=0.01)\n",
    "gradient_boosting_model.fit(x_train, y_train.ravel())\n",
    "gradient_boosting_predict = gradient_boosting_model.predict(x_test)\n",
    "\n",
    "print(\"================Measurement Metrics (Gradient Boosting)================================\")\n",
    "gb_score = r2_score(y_test, gradient_boosting_predict)\n",
    "gb_mse= mean_squared_error(y_test, gradient_boosting_predict)\n",
    "gb_mae =mean_absolute_error(y_test, gradient_boosting_predict)\n",
    "gb_rmse= mean_squared_error(y_test, gradient_boosting_predict)\n",
    "\n",
    "print(f\"R^2 Squared={gb_score}\")\n",
    "print(f\"MSE={gb_mse}\")\n",
    "print(f\"MAE={gb_mae}\")\n",
    "print(f\"RMSE={gb_rmse}\")"
   ]
  },
  {
   "cell_type": "markdown",
   "metadata": {},
   "source": [
    "Visualise results for Gradient Boosting"
   ]
  },
  {
   "cell_type": "code",
   "execution_count": null,
   "metadata": {},
   "outputs": [],
   "source": [
    "plt.figure(figsize=(14,5))\n",
    "plt.plot(y_test, label='Actual', color='red')\n",
    "plt.plot(gradient_boosting_predict, label='Prediction', color='blue')\n",
    "\n",
    "plt.xlabel('Index')\n",
    "plt.ylabel('Demand')\n",
    "plt.legend()\n",
    "plt.title('Gradient Boosting Regression Actual vs Predicted')\n",
    "plt.show()"
   ]
  },
  {
   "cell_type": "code",
   "execution_count": null,
   "metadata": {},
   "outputs": [],
   "source": [
    "gb_pred_actual=pd.DataFrame(y_scaler.inverse_transform(gradient_boosting_predict.reshape(-1,1)),columns=['Demand'])\n",
    "gb_pred_actual=gb_pred_actual.map('{:.0f}'.format)\n",
    "gb_pred_actual = gb_pred_actual.apply(pd.to_numeric)"
   ]
  },
  {
   "cell_type": "markdown",
   "metadata": {},
   "source": [
    "Using the Best Model To make prediction for product"
   ]
  },
  {
   "cell_type": "code",
   "execution_count": null,
   "metadata": {},
   "outputs": [],
   "source": [
    "best_model=gradient_boosting_model if gb_mse>rf_mse  else random_forest_model"
   ]
  },
  {
   "cell_type": "markdown",
   "metadata": {},
   "source": [
    "Predict For Diesel"
   ]
  },
  {
   "cell_type": "code",
   "execution_count": null,
   "metadata": {},
   "outputs": [],
   "source": [
    "def predict_(product: str):\n",
    "    product_df = df_new[df_new['Product'] == product]\n",
    "    product_x = np.array(product_df[features])\n",
    "    product_predicted = best_model.predict(x_scaler.transform(product_x))\n",
    "    product_predicted = y_scaler.inverse_transform(\n",
    "        product_predicted.reshape(-1, 1))\n",
    "    product_predicted = pd.DataFrame(\n",
    "        product_predicted, columns=['Demand_predicted'])\n",
    "    product_predicted.index = product_df.index\n",
    "    product_df = pd.concat([product_df, product_predicted], axis=1)\n",
    "    return product_df"
   ]
  },
  {
   "cell_type": "markdown",
   "metadata": {},
   "source": [
    "##### Visualising the Prediction vs Actual for each product"
   ]
  },
  {
   "cell_type": "code",
   "execution_count": null,
   "metadata": {},
   "outputs": [],
   "source": [
    "for product in df_new.Product.unique():\n",
    "    plt.figure(figsize=(14,4))\n",
    "    product_df=predict_(product)\n",
    "    sns.lineplot(data=product_df,y=\"Demand\",x=\"Date\",label=\"Actaul\")\n",
    "    sns.lineplot(data=product_df,y=\"Demand_predicted\",x=\"Date\",label=\"Predicted\")\n",
    "    plt.xlabel('Date')\n",
    "    plt.ylabel('Demand')\n",
    "    plt.legend()\n",
    "    plt.title(f'Actual vs Predicted [{product}]')\n",
    "    plt.show()"
   ]
  },
  {
   "cell_type": "markdown",
   "metadata": {},
   "source": [
    "##Conclusiong"
   ]
  },
  {
   "cell_type": "markdown",
   "metadata": {},
   "source": [
    "<p>Based on the evaluation metrics, we can conclude that the model demonstrates an excellent fit and performs exceptionally well in predicting the Demand.</p>\n",
    "<p>The R-squared value of 0.9347 indicates that the model explains 93.47% of the variability in the response variable, implying a strong correlation between the predicted and actual values. The high R-squared value suggests that the chosen features are relevant and contribute significantly to the prediction.</p>\n",
    "<p>The MSE (Mean Squared Error) and RMSE (Root Mean Squared Error) are both quite low, with values of 0.00341 and 0.00340996, respectively. These metrics quantify the model's prediction error, and the small values indicate that the model's predictions closely match the actual observed values.</p>\n",
    "<p>Furthermore, the MAE (Mean Absolute Error) of 0.03468 indicates a small average magnitude of the errors in the model's predictions. This further demonstrates that the model is effective in capturing the underlying patterns in the data and producing reliable estimates.</p>\n",
    "<p>From the visualisation of the predicted vs Actual, we have noticed that the model tried to fit well in Diesel and Petrol, however it was unable to predict well in outliers.</p>\n",
    "\n",
    "<p>In summary, the model exhibits strong performance in predicting the target variable, as demonstrated by its high R-squared value, low MSE, RMSE, and MAE. This suggests that the model is effective and reliable for its intended purpose. However, it is essential to continuously monitor and evaluate the model's performance over time to ensure its predictive power remains stable and robust.</p>\n"
   ]
  }
 ],
 "metadata": {
  "kernelspec": {
   "display_name": "Python 3 (ipykernel)",
   "language": "python",
   "name": "python3"
  },
  "language_info": {
   "codemirror_mode": {
    "name": "ipython",
    "version": 3
   },
   "file_extension": ".py",
   "mimetype": "text/x-python",
   "name": "python",
   "nbconvert_exporter": "python",
   "pygments_lexer": "ipython3",
   "version": "3.11.5"
  }
 },
 "nbformat": 4,
 "nbformat_minor": 4
}
